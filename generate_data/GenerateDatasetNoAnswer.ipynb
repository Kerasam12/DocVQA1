{
 "cells": [
  {
   "cell_type": "code",
   "execution_count": 70,
   "id": "df9762cc",
   "metadata": {
    "scrolled": false
   },
   "outputs": [],
   "source": [
    "import json\n",
    "import random \n",
    "question_path = '/home/jsamper/Desktop/DocVQA/Data/Annotations/train_v1.0_withQT.json'\n",
    "new_dataset_path = '/home/jsamper/DocVQA/Annotations/NoAnswerTrain4.json'\n",
    "\n",
    "def read_data(question_path, new_dataset_path):\n",
    "    quest = open(question_path)\n",
    "    count = 0 \n",
    "    data_list = []\n",
    "    q_list = []\n",
    "    \n",
    "    \n",
    "    rep_list = []\n",
    "    rep_q_list = []\n",
    "    \n",
    "    docId_list = []\n",
    "    image_list = []\n",
    "    ucfs_list = []\n",
    "    q_type = 'none'\n",
    "    ucfs_page = 'none'\n",
    "    answer = ['<no_answ>']\n",
    "    data_split = 'train'\n",
    "\n",
    "    questions = json.load(quest)\n",
    "    num_questions = len(questions['data'])\n",
    "    with open(new_dataset_path, 'w') as f:\n",
    "        json.dump(questions['data'], f)\n",
    "    f.close()\n",
    "    for data in questions['data']:\n",
    "\n",
    "        q = data\n",
    "        #docId = data['docId']\n",
    "        #image = data['image']\n",
    "        #ucfs = data['ucsf_document_id']\n",
    "        if (q['question'] not in q_list) and (q['question'] not in rep_q_list):\n",
    "            q_list.append(q['question'])\n",
    "            data_list.append(q)\n",
    "        elif q['question'] not in rep_q_list:\n",
    "            count+=1\n",
    "            rep_list.append(q)\n",
    "            rep_q_list.append(q['question'])\n",
    "            q_list.remove(q['question'])\n",
    "            data_list.append(q)\n",
    "    \n",
    "        \n",
    "                \n",
    "    return data_list, rep_list, questions, num_questions \n",
    "        \n",
    "        \n"
   ]
  },
  {
   "cell_type": "code",
   "execution_count": 71,
   "id": "fceedb2d",
   "metadata": {},
   "outputs": [],
   "source": [
    "def generate_new_data(questions,question, data_len, q_type = 'none',ucfs_page = 'none',answer = '[noans]',data_split = 'train'):\n",
    "    \n",
    "    \n",
    "    new_question = None\n",
    "    #print(rand_data)\n",
    "    while new_question == None:\n",
    "        idx = random.randint(0, data_len)\n",
    "        rand_data = questions['data'][idx]\n",
    "        if rand_data['question'] != question['question'] and question['image']!= rand_data['image']:\n",
    "            new_question = dict()\n",
    "            new_question['questionId'] = question['questionId']\n",
    "            new_question['question'] = question['question']\n",
    "            new_question['question_types'] = q_type\n",
    "            new_question['image'] = rand_data['image']\n",
    "            new_question['docId'] = rand_data['docId']\n",
    "            new_question['ucfs_document_id'] = rand_data['ucsf_document_id']\n",
    "            new_question['ucsf_document_page_no'] = ucfs_page\n",
    "            new_question['answers'] = answer\n",
    "            new_question['data_split'] = data_split\n",
    "        \n",
    "        \n",
    "    return new_question\n",
    "    "
   ]
  },
  {
   "cell_type": "code",
   "execution_count": 74,
   "id": "f98ed800",
   "metadata": {},
   "outputs": [],
   "source": [
    "'''quest_req = open(question_path)\n",
    "questions = json.load(quest_req)\n",
    "data_len = len(questions['data'])\n",
    "new_dataset_path = '/home/jsamper/DocVQA/Annotations/NoAnswerTrain.json'''\n",
    "#prov = open(new_path, 'w')\n",
    "\n",
    "\n",
    "def generate_new_dataset(question_path, new_dataset_path, percentage):\n",
    "    data_list, rep_list, questions, num_questions = read_data(question_path, new_dataset_path)\n",
    "    num_no_answer = int(num_questions*percentage)\n",
    "    #print(num_no_answer)\n",
    "    new_data_list = []\n",
    "    new_data_dict = dict()\n",
    "    \n",
    "    for idx in range(num_no_answer):\n",
    "        quest = data_list[idx]\n",
    "        new_data = generate_new_data(questions, quest, num_questions)\n",
    "        new_data_list.append(new_data)\n",
    "\n",
    "    new_data_dict['data'] = questions['data']+new_data_list\n",
    "    #print(len(new_data_dict))\n",
    "    with open(new_dataset_path, 'w') as f:\n",
    "        json.dump(new_data_dict, f)\n",
    "    f.close()\n",
    "    "
   ]
  },
  {
   "cell_type": "code",
   "execution_count": 75,
   "id": "5f99a3d3",
   "metadata": {},
   "outputs": [],
   "source": [
    "percentage = 0.1\n",
    "generate_new_dataset(question_path, new_dataset_path, percentage)"
   ]
  },
  {
   "cell_type": "code",
   "execution_count": 77,
   "id": "6545cad5",
   "metadata": {},
   "outputs": [
    {
     "name": "stdout",
     "output_type": "stream",
     "text": [
      "43409\n",
      "{'questionId': 337, 'question': 'what is the date mentioned in this letter?', 'question_types': ['handwritten', 'form'], 'image': 'documents/xnbl0037_1.png', 'docId': 279, 'ucsf_document_id': 'xnbl0037', 'ucsf_document_page_no': '1', 'answers': ['1/8/93'], 'data_split': 'train'}\n"
     ]
    }
   ],
   "source": [
    "new_path = '/home/jsamper/DocVQA/Annotations/NoAnswerTrain4.json'\n",
    "with open(new_dataset_path, 'r') as f:\n",
    "    prov1 = json.load(f)\n",
    "    print(len(prov1['data']))\n",
    "    print(prov1['data'][0])"
   ]
  },
  {
   "cell_type": "code",
   "execution_count": 66,
   "id": "14ff6d21",
   "metadata": {},
   "outputs": [
    {
     "ename": "SyntaxError",
     "evalue": "incomplete input (843167145.py, line 3)",
     "output_type": "error",
     "traceback": [
      "\u001b[0;36m  Cell \u001b[0;32mIn[66], line 3\u001b[0;36m\u001b[0m\n\u001b[0;31m    \u001b[0m\n\u001b[0m    ^\u001b[0m\n\u001b[0;31mSyntaxError\u001b[0m\u001b[0;31m:\u001b[0m incomplete input\n"
     ]
    }
   ],
   "source": [
    "question = json.load(quest)\n",
    "for data in question['data']:\n",
    "    "
   ]
  },
  {
   "cell_type": "code",
   "execution_count": null,
   "id": "51f52f82",
   "metadata": {},
   "outputs": [],
   "source": []
  }
 ],
 "metadata": {
  "kernelspec": {
   "display_name": "myenv",
   "language": "python",
   "name": "myenv"
  },
  "language_info": {
   "codemirror_mode": {
    "name": "ipython",
    "version": 3
   },
   "file_extension": ".py",
   "mimetype": "text/x-python",
   "name": "python",
   "nbconvert_exporter": "python",
   "pygments_lexer": "ipython3",
   "version": "3.12.1"
  }
 },
 "nbformat": 4,
 "nbformat_minor": 5
}
